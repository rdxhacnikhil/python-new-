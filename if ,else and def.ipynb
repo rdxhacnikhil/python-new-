{
 "cells": [
  {
   "cell_type": "code",
   "execution_count": 4,
   "metadata": {},
   "outputs": [
    {
     "name": "stdout",
     "output_type": "stream",
     "text": [
      "two distinct complex roots\n"
     ]
    }
   ],
   "source": [
    "a= 78\n",
    "b=2 \n",
    "c=1\n",
    "D=b**2-4*a*c \n",
    "if D>0:\n",
    "    print(\"two distinct real root\")\n",
    "elif D<0:\n",
    "    print(\"two distinct complex roots\")\n",
    "else:\n",
    "    print(\"one real root\")    "
   ]
  },
  {
   "cell_type": "code",
   "execution_count": 5,
   "metadata": {},
   "outputs": [
    {
     "name": "stdout",
     "output_type": "stream",
     "text": [
      " real part \n",
      "imaginary part\n"
     ]
    }
   ],
   "source": [
    "a= 5\n",
    "b=51\n",
    "c=3a= 5\n",
    "b=51\n",
    "c=3\n",
    "D=b**2-4*a*c\n",
    "\n",
    "if d>0:\n",
    "     print(\"two distinct real root\")\n",
    "elif d<0:\n",
    "\n",
    "\n",
    "\n",
    "    print(\" real part \")\n",
    "if ((-(b**2-4*a*c))**0.2):\n",
    "    print(\"imaginary part\")\n",
    "\n",
    "\n"
   ]
  },
  {
   "cell_type": "code",
   "execution_count": 9,
   "metadata": {},
   "outputs": [
    {
     "name": "stdout",
     "output_type": "stream",
     "text": [
      "a is greatest 7\n"
     ]
    }
   ],
   "source": [
    "a= 7\n",
    "b=2 \n",
    "c=1\n",
    "\n",
    "if  a>b and a>c :\n",
    "    print(\"a is greatest\" ,a)\n",
    "elif b>c :\n",
    "    print(\"b is greatest \" , b)\n",
    "else :\n",
    "    print (\"c is gretest\".c)"
   ]
  },
  {
   "cell_type": "code",
   "execution_count": 10,
   "metadata": {},
   "outputs": [
    {
     "ename": "SyntaxError",
     "evalue": "invalid syntax. Maybe you meant '==' or ':=' instead of '='? (1842840907.py, line 4)",
     "output_type": "error",
     "traceback": [
      "\u001b[1;36m  Cell \u001b[1;32mIn[10], line 4\u001b[1;36m\u001b[0m\n\u001b[1;33m    if a=b and b=c:\u001b[0m\n\u001b[1;37m       ^\u001b[0m\n\u001b[1;31mSyntaxError\u001b[0m\u001b[1;31m:\u001b[0m invalid syntax. Maybe you meant '==' or ':=' instead of '='?\n"
     ]
    }
   ],
   "source": [
    "a= 7\n",
    "b=2 \n",
    "c=1\n",
    "if a==b and b==c:\n",
    "    print (\"three are equal\")\n",
    "if a=b and b>c :\n",
    "    print (\"two are equal \", b)\n",
    "if b=c and c>a :\n",
    "    print(\"two are equal\" ,c)\n",
    "if c=a and a>b:\n",
    "    print(\"two are equal\" ,a)"
   ]
  },
  {
   "cell_type": "code",
   "execution_count": 13,
   "metadata": {},
   "outputs": [
    {
     "name": "stdout",
     "output_type": "stream",
     "text": [
      "adult 45\n"
     ]
    }
   ],
   "source": [
    "\n",
    "a =45\n",
    "if a<13 :\n",
    "    print (\"child\",a)\n",
    "elif a>=13 and a<=19 :\n",
    "    print (\"teenager\",a)\n",
    "else:\n",
    "    print(\"adult\" ,a)"
   ]
  },
  {
   "cell_type": "code",
   "execution_count": 14,
   "metadata": {},
   "outputs": [
    {
     "name": "stdout",
     "output_type": "stream",
     "text": [
      "straight line\n"
     ]
    }
   ],
   "source": [
    "x1=2\n",
    "y1=3\n",
    "x2=4\n",
    "y2=5\n",
    "x3=8\n",
    "y3=8\n",
    "a=(x2-x1)**2-(y2-y1)**2\n",
    "b=(x3-x2)**2-(y3-y2)**2\n",
    "c=(x3-x1)**2-(y3-y1)**2\n",
    "if c==a+b:\n",
    "    print (\"straight line\")\n",
    "elif b==a+c:\n",
    "    print (\"straight line\")\n",
    "else:\n",
    "    print (\"straight line\")\n"
   ]
  },
  {
   "cell_type": "code",
   "execution_count": 15,
   "metadata": {},
   "outputs": [
    {
     "ename": "SyntaxError",
     "evalue": "invalid syntax (1058307401.py, line 5)",
     "output_type": "error",
     "traceback": [
      "\u001b[1;36m  Cell \u001b[1;32mIn[15], line 5\u001b[1;36m\u001b[0m\n\u001b[1;33m    if a/400 and a !=:\u001b[0m\n\u001b[1;37m                     ^\u001b[0m\n\u001b[1;31mSyntaxError\u001b[0m\u001b[1;31m:\u001b[0m invalid syntax\n"
     ]
    }
   ],
   "source": [
    "#  write a code to check if a given year is a leap year or not \n",
    "a= 2024\n",
    "b=a/100\n",
    "if a/4:\n",
    "    if a/400 and a !=:\n",
    "        print(\"leap year\")\n",
    "else:\n",
    "    print (\"not a leap year\",b)\n"
   ]
  },
  {
   "cell_type": "code",
   "execution_count": 17,
   "metadata": {},
   "outputs": [
    {
     "ename": "SyntaxError",
     "evalue": "expected ':' (9738105.py, line 1)",
     "output_type": "error",
     "traceback": [
      "\u001b[1;36m  Cell \u001b[1;32mIn[17], line 1\u001b[1;36m\u001b[0m\n\u001b[1;33m    def add (x,y)\u001b[0m\n\u001b[1;37m                 ^\u001b[0m\n\u001b[1;31mSyntaxError\u001b[0m\u001b[1;31m:\u001b[0m expected ':'\n"
     ]
    }
   ],
   "source": [
    "def add (x,y)\n",
    "    z=x=y\n",
    "    return z\n",
    "x=3\n",
    "y=4\n",
    "z=add(x,y)\n",
    "print(z)"
   ]
  },
  {
   "cell_type": "code",
   "execution_count": 20,
   "metadata": {},
   "outputs": [],
   "source": [
    "def greatest(x,y):\n",
    "    if x>y:\n",
    "        return \"x is greater\"\n",
    "    else :\n",
    "        return \"y is greater\"\n",
    "\n"
   ]
  },
  {
   "cell_type": "code",
   "execution_count": 22,
   "metadata": {},
   "outputs": [
    {
     "name": "stdout",
     "output_type": "stream",
     "text": [
      "x is greater\n"
     ]
    }
   ],
   "source": [
    "x=9\n",
    "y=5\n",
    "c =greatest(x,y)\n",
    "print(c)"
   ]
  },
  {
   "cell_type": "code",
   "execution_count": 2,
   "metadata": {},
   "outputs": [],
   "source": [
    "def intreegement(value1,value2):\n",
    "    return value1 +value2"
   ]
  },
  {
   "cell_type": "code",
   "execution_count": null,
   "metadata": {},
   "outputs": [],
   "source": [
    "value1=2\n",
    "value2=3\n",
    "result=intreegement(value1,value2)"
   ]
  }
 ],
 "metadata": {
  "kernelspec": {
   "display_name": "Python 3",
   "language": "python",
   "name": "python3"
  },
  "language_info": {
   "codemirror_mode": {
    "name": "ipython",
    "version": 3
   },
   "file_extension": ".py",
   "mimetype": "text/x-python",
   "name": "python",
   "nbconvert_exporter": "python",
   "pygments_lexer": "ipython3",
   "version": "3.12.4"
  }
 },
 "nbformat": 4,
 "nbformat_minor": 2
}
