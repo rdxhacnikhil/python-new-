{
 "cells": [
  {
   "cell_type": "code",
   "execution_count": 3,
   "metadata": {},
   "outputs": [
    {
     "name": "stdout",
     "output_type": "stream",
     "text": [
      "2\n"
     ]
    }
   ],
   "source": [
    "tup=(1,2,3,5,5,6,4)\n",
    "\n",
    "print(tup.count(5))"
   ]
  },
  {
   "cell_type": "code",
   "execution_count": 5,
   "metadata": {},
   "outputs": [
    {
     "name": "stdout",
     "output_type": "stream",
     "text": [
      "['nikhil', 'shivam', 'aditya']\n"
     ]
    }
   ],
   "source": [
    "movies=[]\n",
    "\n",
    "mov1=input(\"enter your value\")\n",
    "mov2=input(\"enter your value\")\n",
    "mov3=input(\"enter your value\")\n",
    "\n",
    "movies.append(mov1)\n",
    "movies.append(mov2)\n",
    "movies.append(mov3)\n",
    "print(movies)"
   ]
  },
  {
   "cell_type": "code",
   "execution_count": 6,
   "metadata": {},
   "outputs": [
    {
     "name": "stdout",
     "output_type": "stream",
     "text": [
      "['nikhil ', 'shivam ', 'aditya']\n"
     ]
    }
   ],
   "source": [
    "movies=[]\n",
    "movies.append(input(\"enter your first  value\"))\n",
    "movies.append(input(\"enter your second value\"))\n",
    "movies.append(input(\"enter your third value\"))\n",
    "print(movies)"
   ]
  },
  {
   "cell_type": "code",
   "execution_count": 18,
   "metadata": {},
   "outputs": [
    {
     "ename": "AttributeError",
     "evalue": "'builtin_function_or_method' object has no attribute 'reverse'",
     "output_type": "error",
     "traceback": [
      "\u001b[1;31m---------------------------------------------------------------------------\u001b[0m",
      "\u001b[1;31mAttributeError\u001b[0m                            Traceback (most recent call last)",
      "Cell \u001b[1;32mIn[18], line 4\u001b[0m\n\u001b[0;32m      1\u001b[0m list1\u001b[38;5;241m=\u001b[39m[\u001b[38;5;124m\"\u001b[39m\u001b[38;5;124ma\u001b[39m\u001b[38;5;124m\"\u001b[39m,\u001b[38;5;124m\"\u001b[39m\u001b[38;5;124mb\u001b[39m\u001b[38;5;124m\"\u001b[39m,\u001b[38;5;124m\"\u001b[39m\u001b[38;5;124mb\u001b[39m\u001b[38;5;124m\"\u001b[39m,\u001b[38;5;124m\"\u001b[39m\u001b[38;5;124ma\u001b[39m\u001b[38;5;124m\"\u001b[39m]\n\u001b[0;32m      3\u001b[0m copy_list1\u001b[38;5;241m=\u001b[39mlist1\u001b[38;5;241m.\u001b[39mcopy\n\u001b[1;32m----> 4\u001b[0m \u001b[43mcopy_list1\u001b[49m\u001b[38;5;241;43m.\u001b[39;49m\u001b[43mreverse\u001b[49m()\n\u001b[0;32m      6\u001b[0m \u001b[38;5;28;01mif\u001b[39;00m(copy_list1 \u001b[38;5;241m==\u001b[39m list1):\n\u001b[0;32m      7\u001b[0m     \u001b[38;5;28mprint\u001b[39m(\u001b[38;5;124m\"\u001b[39m\u001b[38;5;124mpallindrome\u001b[39m\u001b[38;5;124m\"\u001b[39m)\n",
      "\u001b[1;31mAttributeError\u001b[0m: 'builtin_function_or_method' object has no attribute 'reverse'"
     ]
    }
   ],
   "source": [
    "list1=[\"a\",\"b\",\"b\",\"a\"]\n",
    "\n",
    "copy_list1=list1.copy\n",
    "copy_list1.reverse()\n",
    "\n",
    "if(copy_list1 == list1):\n",
    "    print(\"pallindrome\")\n",
    "else:\n",
    "    print(\"not a pallindrome\")"
   ]
  },
  {
   "cell_type": "code",
   "execution_count": 19,
   "metadata": {},
   "outputs": [
    {
     "name": "stdout",
     "output_type": "stream",
     "text": [
      "3\n"
     ]
    }
   ],
   "source": [
    "tup=[\"c\",\"d\",\"a\",\"a\",\"b\",\"b\",\"a\"]\n",
    "\n",
    "print(tup.count(\"a\"))\n"
   ]
  },
  {
   "cell_type": "code",
   "execution_count": 2,
   "metadata": {},
   "outputs": [
    {
     "name": "stdout",
     "output_type": "stream",
     "text": [
      "6.0\n",
      "12\n"
     ]
    }
   ],
   "source": [
    "a=3\n",
    "b=4\n",
    "c=5\n",
    "s=(a+b+c)/2\n",
    "area=(s*(s-a)*(s-b)*(s-c))**(1/2)\n",
    "print(area) \n",
    "perimeter=(a+b+c)\n",
    "print(perimeter)\n"
   ]
  },
  {
   "cell_type": "code",
   "execution_count": 3,
   "metadata": {},
   "outputs": [
    {
     "name": "stdout",
     "output_type": "stream",
     "text": [
      "50.285714285714285\n",
      "25.142857142857142\n"
     ]
    }
   ],
   "source": [
    "a=4\n",
    "pi=22/7\n",
    "area=pi*(a**2)\n",
    "print(area)\n",
    "circumeference=2*pi*a\n",
    "print(circumeference)"
   ]
  },
  {
   "cell_type": "code",
   "execution_count": 13,
   "metadata": {},
   "outputs": [
    {
     "name": "stdout",
     "output_type": "stream",
     "text": [
      "traingle\n",
      "traingle\n",
      "traingle\n",
      "traingle\n",
      "scalene traingle\n"
     ]
    }
   ],
   "source": [
    "a=2\n",
    "b=4\n",
    "c=6\n",
    "if(a+b>=c):              \n",
    "    if(b+c>=a):                  \n",
    "        if(c+a>=b):\n",
    "            print(\"traingle\")\n",
    "            if (a==b and b==c):\n",
    "                print(\"equilateral triangle\")\n",
    "                if (a==b or b==c or c==a ):\n",
    "                    print(\"isosceles trianlge\")\n",
    "else:\n",
    "    print(\"not traingle\")\n",
    "else:\n",
    "    print(\"scalene traingle\")"
   ]
  },
  {
   "cell_type": "code",
   "execution_count": 6,
   "metadata": {},
   "outputs": [
    {
     "name": "stdout",
     "output_type": "stream",
     "text": [
      "<class 'int'>\n"
     ]
    }
   ],
   "source": [
    "a=5\n",
    "print(type(a))"
   ]
  },
  {
   "cell_type": "code",
   "execution_count": null,
   "metadata": {},
   "outputs": [],
   "source": []
  }
 ],
 "metadata": {
  "kernelspec": {
   "display_name": "Python 3",
   "language": "python",
   "name": "python3"
  },
  "language_info": {
   "codemirror_mode": {
    "name": "ipython",
    "version": 3
   },
   "file_extension": ".py",
   "mimetype": "text/x-python",
   "name": "python",
   "nbconvert_exporter": "python",
   "pygments_lexer": "ipython3",
   "version": "3.12.4"
  }
 },
 "nbformat": 4,
 "nbformat_minor": 2
}
